{
  "nbformat": 4,
  "nbformat_minor": 0,
  "metadata": {
    "colab": {
      "provenance": [],
      "gpuType": "T4",
      "authorship_tag": "ABX9TyOKcp1iWGvv0zFqVZQ7yrP4",
      "include_colab_link": true
    },
    "kernelspec": {
      "name": "python3",
      "display_name": "Python 3"
    },
    "language_info": {
      "name": "python"
    },
    "accelerator": "GPU"
  },
  "cells": [
    {
      "cell_type": "markdown",
      "metadata": {
        "id": "view-in-github",
        "colab_type": "text"
      },
      "source": [
        "<a href=\"https://colab.research.google.com/github/darkomike/ESSR/blob/main/ESSR.ipynb\" target=\"_parent\"><img src=\"https://colab.research.google.com/assets/colab-badge.svg\" alt=\"Open In Colab\"/></a>"
      ]
    },
    {
      "cell_type": "code",
      "execution_count": 43,
      "metadata": {
        "id": "GI2RgannhNdp"
      },
      "outputs": [],
      "source": [
        "import torch\n",
        "import torch.nn as nn\n",
        "import torch.nn.functional as F\n",
        "from torchvision.models import vgg16\n",
        "from torchvision.models.vgg import VGG16_Weights\n",
        "from torch.optim import Adam\n",
        "from torch.utils.data import DataLoader, Dataset,TensorDataset\n",
        "import os\n",
        "import warnings\n",
        "import urllib.error\n",
        "import matplotlib.pyplot as plt\n",
        "import numpy as np\n"
      ]
    },
    {
      "cell_type": "code",
      "source": [
        "class MultiScaleExtractor(nn.Module):\n",
        "    def __init__(self, in_channels=3, out_channels=64):\n",
        "        super(MultiScaleExtractor, self).__init__()\n",
        "        # Simplified Swin Transformer blocks for three scales\n",
        "        self.scale1 = nn.Sequential(\n",
        "            nn.Conv2d(in_channels, out_channels, 3, 1, 1),\n",
        "            nn.ReLU(),\n",
        "            nn.Conv2d(out_channels, out_channels, 3, 1, 1)\n",
        "        )\n",
        "        self.scale2 = nn.Sequential(\n",
        "            nn.Conv2d(in_channels, out_channels, 5, 1, 2),\n",
        "            nn.ReLU(),\n",
        "            nn.Conv2d(out_channels, out_channels, 5, 1, 2)\n",
        "        )\n",
        "        self.scale3 = nn.Sequential(\n",
        "            nn.Conv2d(in_channels, out_channels, 7, 1, 3),\n",
        "            nn.ReLU(),\n",
        "            nn.Conv2d(out_channels, out_channels, 7, 1, 3)\n",
        "        )\n",
        "        # Channel attention for feature fusion\n",
        "        self.attention = nn.Sequential(\n",
        "            nn.AdaptiveAvgPool2d(1),\n",
        "            # The in_channels of the Conv2d layer within the attention module\n",
        "            # needs to be changed to out_channels*3 to match the number of channels\n",
        "            # in the 'combined' tensor.\n",
        "            nn.Conv2d(out_channels * 3, out_channels * 3, 1),\n",
        "            nn.Sigmoid()\n",
        "        )\n",
        "        self.fusion = nn.Conv2d(out_channels * 3, out_channels, 1)\n",
        "\n",
        "    def forward(self, x):\n",
        "        s1 = self.scale1(x)\n",
        "        s2 = self.scale2(x)\n",
        "        s3 = self.scale3(x)\n",
        "        combined = torch.cat([s1, s2, s3], dim=1)\n",
        "        attn = self.attention(combined)\n",
        "        combined = combined * attn\n",
        "        return self.fusion(combined)\n"
      ],
      "metadata": {
        "id": "2pT5oND3hfPm"
      },
      "execution_count": 44,
      "outputs": []
    },
    {
      "cell_type": "code",
      "source": [
        "class PreprocessingModule(nn.Module):\n",
        "    def __init__(self, channels=3):\n",
        "        super(PreprocessingModule, self).__init__()\n",
        "        self.conv = nn.Conv2d(channels, channels, 3, 1, 1)\n",
        "        self.filter = nn.Conv2d(channels, channels, 3, 1, 1)\n",
        "\n",
        "    def forward(self, x):\n",
        "        filtered = self.conv(x)\n",
        "        return self.filter(filtered)\n"
      ],
      "metadata": {
        "id": "kEOVTFiPh08a"
      },
      "execution_count": 45,
      "outputs": []
    },
    {
      "cell_type": "code",
      "source": [
        "class ESSR(nn.Module):\n",
        "    def __init__(self, upscale_factor=4):\n",
        "        super(ESSR, self).__init__()\n",
        "        self.preprocess = PreprocessingModule(channels=3)\n",
        "        self.extractor = MultiScaleExtractor(in_channels=3, out_channels=64)\n",
        "        # Simplified SR network (replace with SwinIR for production)\n",
        "        self.sr_body = nn.Sequential(\n",
        "            nn.Conv2d(64, 128, 3, 1, 1),\n",
        "            nn.ReLU(),\n",
        "            nn.Conv2d(128, 128, 3, 1, 1),\n",
        "            nn.ReLU(),\n",
        "            nn.Conv2d(128, 64, 3, 1, 1)\n",
        "        )\n",
        "        self.upsample = nn.Sequential(\n",
        "            nn.Conv2d(64, 64 * upscale_factor ** 2, 3, 1, 1),\n",
        "            nn.PixelShuffle(upscale_factor)\n",
        "        )\n",
        "        self.output = nn.Conv2d(64, 3, 3, 1, 1)\n",
        "        # Discriminator for adversarial loss\n",
        "        self.discriminator = nn.Sequential(\n",
        "            nn.Conv2d(3, 64, 3, 2, 1),\n",
        "            nn.LeakyReLU(0.2),\n",
        "            nn.Conv2d(64, 128, 3, 2, 1),\n",
        "            nn.LeakyReLU(0.2),\n",
        "            nn.AdaptiveAvgPool2d(1),\n",
        "            nn.Conv2d(128, 1, 1)\n",
        "        )\n",
        "\n",
        "    def forward(self, x):\n",
        "        x = self.preprocess(x)\n",
        "        features = self.extractor(x)\n",
        "        x = self.sr_body(features)\n",
        "        x = self.upsample(x)\n",
        "        return self.output(x)\n"
      ],
      "metadata": {
        "id": "2UyLZ90jh5rU"
      },
      "execution_count": 46,
      "outputs": []
    },
    {
      "cell_type": "code",
      "source": [
        "# Hybrid Loss Function\n",
        "class HybridLoss(nn.Module):\n",
        "    def __init__(self, device):\n",
        "        super(HybridLoss, self).__init__()\n",
        "        self.l1_loss = nn.L1Loss()\n",
        "\n",
        "\n",
        "        try:\n",
        "            vgg = vgg16(weights=VGG16_Weights.IMAGENET1K_V1).features[:16].eval().to(device)\n",
        "            # Download VGG16 weights if not available locally\n",
        "            for param in vgg.parameters():\n",
        "                param.requires_grad = False\n",
        "            self.vgg = vgg\n",
        "        except urllib.error.URLError as e:\n",
        "            # Fallback to local weights if available\n",
        "            weights_path = os.path.expanduser(\"~/.cache/torch/hub/checkpoints/vgg16-397923af.pth\")\n",
        "            if os.path.exists(weights_path):\n",
        "                vgg = vgg16(weights=None).features[:16].eval().to(device)\n",
        "                vgg.load_state_dict(torch.load(weights_path))\n",
        "                for param in vgg.parameters():\n",
        "                    param.requires_grad = False\n",
        "                self.vgg = vgg\n",
        "                print(f\"Loaded VGG16 weights from local cache: {weights_path}\")\n",
        "            else:\n",
        "                warnings.warn(\n",
        "                    f\"Failed to download VGG16 weights due to network error: {e}\\n\"\n",
        "                    f\"No local weights found at {weights_path}\\n\"\n",
        "                    \"Please download 'vgg16-397923af.pth' from \"\n",
        "                    \"https://download.pytorch.org/models/vgg16-397923af.pth and place it in \"\n",
        "                    f\"{weights_path}, or ensure internet connectivity.\"\n",
        "                )\n",
        "                # Initialize VGG16 without pretrained weights as a last resort\n",
        "                self.vgg = vgg16(weights=None).features[:16].eval().to(device)\n",
        "\n",
        "        self.contrastive_loss = nn.CrossEntropyLoss()\n",
        "\n",
        "    def perceptual_loss(self, sr, hr):\n",
        "        sr_features = self.vgg(sr)\n",
        "        hr_features = self.vgg(hr)\n",
        "        return self.l1_loss(sr_features, hr_features)\n",
        "\n",
        "    def contrastive_loss_fn(self, features1, features2, batch_size):\n",
        "        # Reshape features to 2D before matrix multiplication\n",
        "        features1 = features1.view(batch_size, -1)  # Flatten spatial dimensions\n",
        "        features2 = features2.view(batch_size, -1)  # Flatten spatial dimensions\n",
        "\n",
        "        # Simplified InfoNCE loss\n",
        "        logits = torch.matmul(features1, features2.t())\n",
        "        labels = torch.arange(batch_size).to(logits.device)\n",
        "        return self.contrastive_loss(logits, labels)\n",
        "\n",
        "\n",
        "    def forward(self, sr, hr, features1, features2, batch_size, discriminator, real=True):\n",
        "        l1 = self.l1_loss(sr, hr)\n",
        "        perceptual = self.perceptual_loss(sr, hr)\n",
        "        contrastive = self.contrastive_loss_fn(features1, features2, batch_size)\n",
        "        adv = -torch.mean(discriminator(sr)) if real else torch.mean(discriminator(sr))\n",
        "        return 1.0 * l1 + 0.1 * perceptual + 0.5 * contrastive + 0.01 * adv\n"
      ],
      "metadata": {
        "id": "zqd6_3tch_RW"
      },
      "execution_count": 47,
      "outputs": []
    },
    {
      "cell_type": "code",
      "source": [
        "# Training Loop\n",
        "def train_essr(model, train_loader, epochs=200, device=None):\n",
        "    if device is None:\n",
        "        device = torch.device('cuda' if torch.cuda.is_available() else 'cpu')\n",
        "    print(f'Using device: {device}')\n",
        "\n",
        "    model = model.to(device)\n",
        "    optimizer = Adam(model.parameters(), lr=1e-4, weight_decay=1e-4)\n",
        "    loss_fn = HybridLoss(device).to(device)\n",
        "\n",
        "    # Use mixed-precision training only if CUDA is available\n",
        "    use_amp = torch.cuda.is_available()\n",
        "    scaler = torch.cuda.amp.GradScaler(enabled=use_amp)\n",
        "\n",
        "    # Initialize an empty list to store losses for each epoch\n",
        "    epoch_losses = []\n",
        "\n",
        "    for epoch in range(epochs):\n",
        "        model.train()\n",
        "        total_loss = 0\n",
        "        for lr, hr in train_loader:\n",
        "            lr, hr = lr.to(device), hr.to(device)\n",
        "            optimizer.zero_grad()\n",
        "\n",
        "            # Use autocast only if CUDA is available\n",
        "            with torch.cuda.amp.autocast(enabled=use_amp):\n",
        "                # Generate augmented views for contrastive loss\n",
        "                lr_aug1 = torch.rot90(lr, 1, [2, 3])\n",
        "                lr_aug2 = torch.rot90(lr, 2, [2, 3])\n",
        "                sr = model(lr)\n",
        "                features1 = model.extractor(lr_aug1)\n",
        "                features2 = model.extractor(lr_aug2)\n",
        "                loss = loss_fn(sr, hr, features1, features2, lr.size(0), model.discriminator)\n",
        "\n",
        "            # Backpropagation with or without mixed precision\n",
        "            if use_amp:\n",
        "                scaler.scale(loss).backward()\n",
        "                scaler.step(optimizer)\n",
        "                scaler.update()\n",
        "            else:\n",
        "                loss.backward()\n",
        "                optimizer.step()\n",
        "\n",
        "            total_loss += loss.item()\n",
        "\n",
        "        # Calculate average loss for the epoch and store it in the list\n",
        "        avg_epoch_loss = total_loss / len(train_loader)\n",
        "        epoch_losses.append(avg_epoch_loss)\n",
        "\n",
        "        print(f'Epoch {epoch + 1}, Loss: {avg_epoch_loss:.4f}')\n",
        "    return epoch_losses\n"
      ],
      "metadata": {
        "id": "-CLxtdLiiEWq"
      },
      "execution_count": 48,
      "outputs": []
    },
    {
      "cell_type": "code",
      "source": [
        "# Placeholder dataset (replace with SET5/DIV2K)\n",
        "\n",
        "lr_data = torch.randn(100, 3, 64, 64)\n",
        "hr_data = torch.randn(100, 3, 256, 256)\n",
        "dataset = TensorDataset(lr_data, hr_data)\n",
        "train_loader = DataLoader(dataset, batch_size=16, shuffle=True)\n",
        "\n",
        "\n",
        "epochs = 10\n",
        "model = ESSR(upscale_factor=4)\n",
        "epoch_losses =train_essr(model, train_loader, epochs=epochs)\n",
        "\n",
        "\n",
        "# Plotting the loss curve\n",
        "plt.figure(figsize=(10, 5))  # Adjust figure size if needed\n",
        "plt.plot(np.arange(1, epochs + 1), epoch_losses, marker='o', linestyle='-')\n",
        "plt.title('Training Loss')\n",
        "plt.xlabel('Epoch')\n",
        "plt.ylabel('Loss')\n",
        "plt.grid(True)\n",
        "plt.show()"
      ],
      "metadata": {
        "colab": {
          "base_uri": "https://localhost:8080/",
          "height": 775
        },
        "id": "_n95Xwx_iH_u",
        "outputId": "e077e3da-1ba7-4ca8-ee32-713af3366826"
      },
      "execution_count": 49,
      "outputs": [
        {
          "output_type": "stream",
          "name": "stdout",
          "text": [
            "Using device: cuda\n"
          ]
        },
        {
          "output_type": "stream",
          "name": "stderr",
          "text": [
            "<ipython-input-48-65d8af1e3e13>:13: FutureWarning: `torch.cuda.amp.GradScaler(args...)` is deprecated. Please use `torch.amp.GradScaler('cuda', args...)` instead.\n",
            "  scaler = torch.cuda.amp.GradScaler(enabled=use_amp)\n",
            "<ipython-input-48-65d8af1e3e13>:26: FutureWarning: `torch.cuda.amp.autocast(args...)` is deprecated. Please use `torch.amp.autocast('cuda', args...)` instead.\n",
            "  with torch.cuda.amp.autocast(enabled=use_amp):\n"
          ]
        },
        {
          "output_type": "stream",
          "name": "stdout",
          "text": [
            "Epoch 1, Loss: 5.8781\n",
            "Epoch 2, Loss: 4.7605\n",
            "Epoch 3, Loss: 3.6885\n",
            "Epoch 4, Loss: 3.1282\n",
            "Epoch 5, Loss: 2.5053\n",
            "Epoch 6, Loss: 1.9561\n",
            "Epoch 7, Loss: 1.7036\n",
            "Epoch 8, Loss: 1.5089\n",
            "Epoch 9, Loss: 1.2578\n",
            "Epoch 10, Loss: 1.1436\n"
          ]
        },
        {
          "output_type": "display_data",
          "data": {
            "text/plain": [
              "<Figure size 1000x500 with 1 Axes>"
            ],
            "image/png": "[encoded data removed]"
          },
          "metadata": {}
        }
      ]
    }
  ]
}